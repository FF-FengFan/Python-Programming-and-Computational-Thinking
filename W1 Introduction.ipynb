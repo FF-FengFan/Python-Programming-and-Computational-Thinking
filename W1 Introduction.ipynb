{
 "cells": [
  {
   "cell_type": "markdown",
   "id": "dedc954f",
   "metadata": {},
   "source": [
    "### 1. Basic Knowledge about Python "
   ]
  },
  {
   "cell_type": "markdown",
   "id": "39d3cd27",
   "metadata": {},
   "source": [
    "###### References:\n",
    "Python Tutorial: https://www.w3schools.com/python/default.asp \\\n",
    "Python Documentation contents: https://docs.python.org/3/contents.html\\"
   ]
  },
  {
   "cell_type": "markdown",
   "id": "0e99efcc",
   "metadata": {},
   "source": [
    "#### print() function\n",
    "The print() function prints the specified message to the screen, or other standard output device."
   ]
  },
  {
   "cell_type": "code",
   "execution_count": 8,
   "id": "9f4d6c8f",
   "metadata": {},
   "outputs": [
    {
     "name": "stdout",
     "output_type": "stream",
     "text": [
      "hello world\n"
     ]
    }
   ],
   "source": [
    "print(\"hello world\")"
   ]
  },
  {
   "cell_type": "code",
   "execution_count": 10,
   "id": "09c16267",
   "metadata": {},
   "outputs": [
    {
     "data": {
      "text/plain": [
       "builtin_function_or_method"
      ]
     },
     "execution_count": 10,
     "metadata": {},
     "output_type": "execute_result"
    }
   ],
   "source": [
    "type(print)"
   ]
  },
  {
   "cell_type": "markdown",
   "id": "b93a4146",
   "metadata": {},
   "source": [
    "#### Case Sensitive"
   ]
  },
  {
   "cell_type": "code",
   "execution_count": 1,
   "id": "0b4b2b76",
   "metadata": {},
   "outputs": [
    {
     "name": "stdout",
     "output_type": "stream",
     "text": [
      "hello world\n"
     ]
    }
   ],
   "source": [
    "print (\"hello world\")"
   ]
  },
  {
   "cell_type": "code",
   "execution_count": 2,
   "id": "dfb6417a",
   "metadata": {},
   "outputs": [
    {
     "name": "stdout",
     "output_type": "stream",
     "text": [
      "Hello World\n"
     ]
    }
   ],
   "source": [
    "print(\"Hello World\")"
   ]
  },
  {
   "cell_type": "code",
   "execution_count": 3,
   "id": "a5454555",
   "metadata": {},
   "outputs": [
    {
     "ename": "NameError",
     "evalue": "name 'Print' is not defined",
     "output_type": "error",
     "traceback": [
      "\u001b[0;31m---------------------------------------------------------------------------\u001b[0m",
      "\u001b[0;31mNameError\u001b[0m                                 Traceback (most recent call last)",
      "Cell \u001b[0;32mIn[3], line 1\u001b[0m\n\u001b[0;32m----> 1\u001b[0m Print(\u001b[38;5;124m\"\u001b[39m\u001b[38;5;124mhello\u001b[39m\u001b[38;5;124m\"\u001b[39m)\n",
      "\u001b[0;31mNameError\u001b[0m: name 'Print' is not defined"
     ]
    }
   ],
   "source": [
    "Print(\"hello world\")"
   ]
  },
  {
   "cell_type": "code",
   "execution_count": 4,
   "id": "c257db4c",
   "metadata": {},
   "outputs": [
    {
     "ename": "NameError",
     "evalue": "name 'PRINT' is not defined",
     "output_type": "error",
     "traceback": [
      "\u001b[0;31m---------------------------------------------------------------------------\u001b[0m",
      "\u001b[0;31mNameError\u001b[0m                                 Traceback (most recent call last)",
      "Cell \u001b[0;32mIn[4], line 1\u001b[0m\n\u001b[0;32m----> 1\u001b[0m PRINT (\u001b[38;5;124m\"\u001b[39m\u001b[38;5;124mhello world\u001b[39m\u001b[38;5;124m\"\u001b[39m)\n",
      "\u001b[0;31mNameError\u001b[0m: name 'PRINT' is not defined"
     ]
    }
   ],
   "source": [
    "PRINT (\"hello world\")"
   ]
  },
  {
   "cell_type": "markdown",
   "id": "274e126a",
   "metadata": {},
   "source": [
    "#### Variables\n",
    "variables are created when you assign a value to it."
   ]
  },
  {
   "cell_type": "code",
   "execution_count": 11,
   "id": "5e5e83e5",
   "metadata": {},
   "outputs": [],
   "source": [
    "x=3"
   ]
  },
  {
   "cell_type": "markdown",
   "id": "567dc191",
   "metadata": {},
   "source": [
    "#### Comments \n",
    "You can use comments to clarity or remind yourself."
   ]
  },
  {
   "cell_type": "code",
   "execution_count": 6,
   "id": "636a8f1a",
   "metadata": {},
   "outputs": [],
   "source": [
    "# this is a comment line\n",
    "x=3"
   ]
  },
  {
   "cell_type": "markdown",
   "id": "71f293cd",
   "metadata": {},
   "source": [
    "#### Q1: Difine a new variable named Harry and make it equals to 35, then make a comment to remind yourself, the comment is: Harry is 35 years old."
   ]
  },
  {
   "cell_type": "markdown",
   "id": "27d19d7f",
   "metadata": {},
   "source": [
    "#### Equal Signs\n",
    "= for assigning variables' values\\\n",
    "== for comparing between two variables/values"
   ]
  },
  {
   "cell_type": "code",
   "execution_count": 17,
   "id": "0c7d6d0c",
   "metadata": {},
   "outputs": [
    {
     "name": "stdout",
     "output_type": "stream",
     "text": [
      "2\n"
     ]
    }
   ],
   "source": [
    "a=2\n",
    "print(a)"
   ]
  },
  {
   "cell_type": "code",
   "execution_count": 6,
   "id": "987432ea",
   "metadata": {
    "scrolled": true
   },
   "outputs": [
    {
     "ename": "NameError",
     "evalue": "name 'b' is not defined",
     "output_type": "error",
     "traceback": [
      "\u001b[0;31m---------------------------------------------------------------------------\u001b[0m",
      "\u001b[0;31mNameError\u001b[0m                                 Traceback (most recent call last)",
      "Cell \u001b[0;32mIn[6], line 1\u001b[0m\n\u001b[0;32m----> 1\u001b[0m b\u001b[38;5;241m==\u001b[39m\u001b[38;5;241m2\u001b[39m\n\u001b[1;32m      2\u001b[0m \u001b[38;5;28mprint\u001b[39m(b)\n",
      "\u001b[0;31mNameError\u001b[0m: name 'b' is not defined"
     ]
    }
   ],
   "source": [
    "b==2\n",
    "print(b)"
   ]
  },
  {
   "cell_type": "markdown",
   "id": "af374782",
   "metadata": {},
   "source": [
    "#### Identation\n",
    "Indentation refers to the spaces at the beginning of a code line.\n",
    "Python uses indentation to indicate a block of code."
   ]
  },
  {
   "cell_type": "code",
   "execution_count": 7,
   "id": "7b061575",
   "metadata": {},
   "outputs": [
    {
     "name": "stdout",
     "output_type": "stream",
     "text": [
      "a is less than b\n"
     ]
    }
   ],
   "source": [
    "b=10\n",
    "if a==b:\n",
    "    print(\"a equals to b\")\n",
    "elif a>b:\n",
    "    print(\"a is greater than b\")\n",
    "else:\n",
    "    print(\"a is less than b\")"
   ]
  },
  {
   "cell_type": "markdown",
   "id": "f6c24684",
   "metadata": {},
   "source": [
    "### 2. Jupyter Notebook"
   ]
  },
  {
   "cell_type": "markdown",
   "id": "619a0714",
   "metadata": {},
   "source": [
    "• Create new notebook: file - new notebook - python 3\\\n",
    "• Open from other folders in your pc: file - open - find the location where you saved your data\\\n",
    "• Default saved format: .ipynb\\\n",
    "• Export to other format: file - download as .py, .html, .pdf, .txt\\\n",
    "• Keyboard shortcuts:\n",
    "https://cheatography.com/weidadeyue/cheat-sheets/jupyter-notebook/"
   ]
  },
  {
   "cell_type": "markdown",
   "id": "4d155c60",
   "metadata": {},
   "source": [
    "### 3. Variables in Jupyter Notebook"
   ]
  },
  {
   "cell_type": "markdown",
   "id": "730fe4f8",
   "metadata": {},
   "source": [
    "#### How to see all the variables in Jupyter Notebook environment?\n",
    "• Using magics in IPython, ex., %who function. With no arguments it prints all the interactive variables with minimal formatting. You can supply types to only show variables matching the type given.\\\n",
    "• One magic is %whos, it provides a nice formatted table that will show you the variable, type, and a string representation. It includes helpful information about Numpy and pandas data structures.\\\n",
    "• You can find the Built-in magic commands: https://ipython.readthedocs.io/en/stable/interactive/magics.html"
   ]
  },
  {
   "cell_type": "code",
   "execution_count": 8,
   "id": "9899925e",
   "metadata": {},
   "outputs": [
    {
     "name": "stdout",
     "output_type": "stream",
     "text": [
      "a\t x\t \n"
     ]
    }
   ],
   "source": [
    "# what variable exists in the environment\n",
    "%who"
   ]
  },
  {
   "cell_type": "code",
   "execution_count": 9,
   "id": "677c6dd8",
   "metadata": {},
   "outputs": [
    {
     "name": "stdout",
     "output_type": "stream",
     "text": [
      "No variables match your requested type.\n"
     ]
    }
   ],
   "source": [
    "# what function exists in the environment\n",
    "%who function"
   ]
  },
  {
   "cell_type": "code",
   "execution_count": 10,
   "id": "659def17",
   "metadata": {},
   "outputs": [
    {
     "name": "stdout",
     "output_type": "stream",
     "text": [
      "Variable   Type    Data/Info\n",
      "----------------------------\n",
      "a          int     2\n",
      "x          int     3\n"
     ]
    }
   ],
   "source": [
    "# give you more information\n",
    "%whos"
   ]
  },
  {
   "cell_type": "code",
   "execution_count": 12,
   "id": "297882bd",
   "metadata": {},
   "outputs": [
    {
     "name": "stdout",
     "output_type": "stream",
     "text": [
      "No variables match your requested type.\n"
     ]
    }
   ],
   "source": [
    "# what module exists in the environment\n",
    "%who module"
   ]
  },
  {
   "cell_type": "code",
   "execution_count": 11,
   "id": "58d43a1f",
   "metadata": {
    "scrolled": false
   },
   "outputs": [
    {
     "name": "stdout",
     "output_type": "stream",
     "text": [
      "Variable   Type    Data/Info\n",
      "----------------------------\n",
      "x          int     3\n"
     ]
    }
   ],
   "source": [
    "# remove variable/module/function in the environment \n",
    "del a\n",
    "%whos"
   ]
  },
  {
   "cell_type": "markdown",
   "id": "eec8ae3a",
   "metadata": {},
   "source": [
    "#### Other magic commands you can use\n",
    "reference: https://www.tutorialspoint.com/jupyter/ipython_magic_commands.htm"
   ]
  },
  {
   "cell_type": "code",
   "execution_count": 28,
   "id": "c8acb282",
   "metadata": {},
   "outputs": [
    {
     "data": {
      "text/plain": [
       "['Tue Aug 29 19:00:08 EDT 2023']"
      ]
     },
     "execution_count": 28,
     "metadata": {},
     "output_type": "execute_result"
    }
   ],
   "source": [
    "# gives you the current date and time\n",
    "%system date"
   ]
  },
  {
   "cell_type": "code",
   "execution_count": 26,
   "id": "0c0ced9c",
   "metadata": {},
   "outputs": [],
   "source": [
    "# Useful to write mathematical formula"
   ]
  },
  {
   "cell_type": "code",
   "execution_count": 25,
   "id": "59ea08ad",
   "metadata": {},
   "outputs": [
    {
     "data": {
      "text/latex": [
       "$$ Y = \\beta_0 + \\beta_1X_1 + \\mu_i$$\n"
      ],
      "text/plain": [
       "<IPython.core.display.Latex object>"
      ]
     },
     "metadata": {},
     "output_type": "display_data"
    }
   ],
   "source": [
    "%%latex\n",
    "$$ Y = \\beta_0 + \\beta_1X_1 + \\mu_i$$"
   ]
  },
  {
   "cell_type": "markdown",
   "id": "91591a85",
   "metadata": {},
   "source": [
    "### 4. Strings"
   ]
  },
  {
   "cell_type": "markdown",
   "id": "e29209ed",
   "metadata": {},
   "source": [
    "#### Quotation marks:\n",
    "\n",
    "Double: \"string\"\\\n",
    "Single: 'string'"
   ]
  },
  {
   "cell_type": "code",
   "execution_count": 41,
   "id": "73e1e3ca",
   "metadata": {},
   "outputs": [
    {
     "name": "stdout",
     "output_type": "stream",
     "text": [
      "Baruch College\n"
     ]
    }
   ],
   "source": [
    "print('Baruch College')"
   ]
  },
  {
   "cell_type": "code",
   "execution_count": 42,
   "id": "36b255ed",
   "metadata": {},
   "outputs": [
    {
     "name": "stdout",
     "output_type": "stream",
     "text": [
      "Baruch College\n"
     ]
    }
   ],
   "source": [
    "print(\"Baruch College\")"
   ]
  },
  {
   "cell_type": "code",
   "execution_count": 43,
   "id": "6013f501",
   "metadata": {},
   "outputs": [
    {
     "name": "stdout",
     "output_type": "stream",
     "text": [
      "I'm fine\n"
     ]
    }
   ],
   "source": [
    "print(\"I'm fine\")"
   ]
  },
  {
   "cell_type": "code",
   "execution_count": 49,
   "id": "06f508f5",
   "metadata": {},
   "outputs": [
    {
     "name": "stdout",
     "output_type": "stream",
     "text": [
      "Let us read this chapter of \"Hamlet\".\n"
     ]
    }
   ],
   "source": [
    "print('Let us read this chapter of \"Hamlet\".')"
   ]
  },
  {
   "cell_type": "code",
   "execution_count": 47,
   "id": "20b52cf0",
   "metadata": {},
   "outputs": [
    {
     "name": "stdout",
     "output_type": "stream",
     "text": [
      "Baruch College \n",
      "55 Lexington Ave, NY, NY 10010\n"
     ]
    }
   ],
   "source": [
    "# \\n means a new line\n",
    "print(\"Baruch College \\n55 Lexington Ave, NY, NY 10010\")"
   ]
  },
  {
   "cell_type": "code",
   "execution_count": 48,
   "id": "238535ec",
   "metadata": {},
   "outputs": [
    {
     "name": "stdout",
     "output_type": "stream",
     "text": [
      "Baruch College \t55 Lexington Ave, NY, NY 10010\n"
     ]
    }
   ],
   "source": [
    "# \\t means a tab, 4 spaces\n",
    "print(\"Baruch College \\t55 Lexington Ave, NY, NY 10010\")"
   ]
  },
  {
   "cell_type": "markdown",
   "id": "abe6901b",
   "metadata": {},
   "source": [
    "### 5. Input & Output"
   ]
  },
  {
   "cell_type": "code",
   "execution_count": 51,
   "id": "55d4e9a9",
   "metadata": {},
   "outputs": [
    {
     "name": "stdout",
     "output_type": "stream",
     "text": [
      "How old are you? 20\n",
      "The user is 20 years old\n"
     ]
    }
   ],
   "source": [
    "age = input('How old are you? ')\n",
    "#print(age)\n",
    "print(\"The user is\", age, \"years old\") # print out the age"
   ]
  },
  {
   "cell_type": "markdown",
   "id": "abfde2d9",
   "metadata": {},
   "source": [
    "#### Q2: Using input funtion to print our your major?"
   ]
  },
  {
   "cell_type": "markdown",
   "id": "e4602cbc",
   "metadata": {},
   "source": [
    "### 6. Some important notes"
   ]
  },
  {
   "cell_type": "code",
   "execution_count": 52,
   "id": "36529ae9",
   "metadata": {},
   "outputs": [
    {
     "data": {
      "text/plain": [
       "int"
      ]
     },
     "execution_count": 52,
     "metadata": {},
     "output_type": "execute_result"
    }
   ],
   "source": [
    "type(1) #integer"
   ]
  },
  {
   "cell_type": "code",
   "execution_count": 54,
   "id": "92c0c6df",
   "metadata": {},
   "outputs": [
    {
     "data": {
      "text/plain": [
       "float"
      ]
     },
     "execution_count": 54,
     "metadata": {},
     "output_type": "execute_result"
    }
   ],
   "source": [
    "type(2.35) # float"
   ]
  },
  {
   "cell_type": "code",
   "execution_count": 55,
   "id": "92aa58af",
   "metadata": {},
   "outputs": [
    {
     "data": {
      "text/plain": [
       "bool"
      ]
     },
     "execution_count": 55,
     "metadata": {},
     "output_type": "execute_result"
    }
   ],
   "source": [
    "type(True) # boolean value"
   ]
  },
  {
   "cell_type": "code",
   "execution_count": 57,
   "id": "1c4e2f19",
   "metadata": {},
   "outputs": [
    {
     "data": {
      "text/plain": [
       "str"
      ]
     },
     "execution_count": 57,
     "metadata": {},
     "output_type": "execute_result"
    }
   ],
   "source": [
    "type(\"Ok\") # string"
   ]
  },
  {
   "cell_type": "markdown",
   "id": "89b9da57",
   "metadata": {},
   "source": [
    "#### Q: what is the difference between 123 and  \"123\"?"
   ]
  },
  {
   "cell_type": "markdown",
   "id": "15c779cb",
   "metadata": {},
   "source": [
    "#### Get Help"
   ]
  },
  {
   "cell_type": "code",
   "execution_count": 14,
   "id": "f6c275b2",
   "metadata": {
    "scrolled": false
   },
   "outputs": [
    {
     "name": "stdout",
     "output_type": "stream",
     "text": [
      "\n",
      "Welcome to Python 3.11's help utility!\n",
      "\n",
      "If this is your first time using Python, you should definitely check out\n",
      "the tutorial on the internet at https://docs.python.org/3.11/tutorial/.\n",
      "\n",
      "Enter the name of any module, keyword, or topic to get help on writing\n",
      "Python programs and using Python modules.  To quit this help utility and\n",
      "return to the interpreter, just type \"quit\".\n",
      "\n",
      "To get a list of available modules, keywords, symbols, or topics, type\n",
      "\"modules\", \"keywords\", \"symbols\", or \"topics\".  Each module also comes\n",
      "with a one-line summary of what it does; to list the modules whose name\n",
      "or summary contain a given string such as \"spam\", type \"modules spam\".\n",
      "\n",
      "\n",
      "You are now leaving help and returning to the Python interpreter.\n",
      "If you want to ask for help on a particular object directly from the\n",
      "interpreter, you can type \"help(object)\".  Executing \"help('string')\"\n",
      "has the same effect as typing a particular string at the help> prompt.\n"
     ]
    }
   ],
   "source": [
    "help()"
   ]
  },
  {
   "cell_type": "code",
   "execution_count": 13,
   "id": "e37e7cde",
   "metadata": {
    "scrolled": true
   },
   "outputs": [
    {
     "name": "stdout",
     "output_type": "stream",
     "text": [
      "Help on built-in function print in module builtins:\n",
      "\n",
      "print(*args, sep=' ', end='\\n', file=None, flush=False)\n",
      "    Prints the values to a stream, or to sys.stdout by default.\n",
      "    \n",
      "    sep\n",
      "      string inserted between values, default a space.\n",
      "    end\n",
      "      string appended after the last value, default a newline.\n",
      "    file\n",
      "      a file-like object (stream); defaults to the current sys.stdout.\n",
      "    flush\n",
      "      whether to forcibly flush the stream.\n",
      "\n"
     ]
    }
   ],
   "source": [
    "help(print)"
   ]
  },
  {
   "cell_type": "markdown",
   "id": "a9f30a16",
   "metadata": {},
   "source": [
    "#### You can use TAB completion to see possible function names\n",
    "\n",
    "e.g. try type in pr and press tab, you will the suggested function name popped up"
   ]
  },
  {
   "cell_type": "code",
   "execution_count": null,
   "id": "540fac98",
   "metadata": {},
   "outputs": [],
   "source": [
    "pr"
   ]
  },
  {
   "cell_type": "markdown",
   "id": "3503d0db",
   "metadata": {},
   "source": [
    "#### Close the file\n",
    "Once you closed your notebook and open it again, the definitions you have made (functions and variables) are lost, so you have to re-run all commands writeen in the current file."
   ]
  }
 ],
 "metadata": {
  "kernelspec": {
   "display_name": "Python 3 (ipykernel)",
   "language": "python",
   "name": "python3"
  },
  "language_info": {
   "codemirror_mode": {
    "name": "ipython",
    "version": 3
   },
   "file_extension": ".py",
   "mimetype": "text/x-python",
   "name": "python",
   "nbconvert_exporter": "python",
   "pygments_lexer": "ipython3",
   "version": "3.11.4"
  }
 },
 "nbformat": 4,
 "nbformat_minor": 5
}
