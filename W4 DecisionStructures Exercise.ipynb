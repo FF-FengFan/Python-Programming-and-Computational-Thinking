{
 "cells": [
  {
   "cell_type": "markdown",
   "metadata": {},
   "source": [
    "# Decision a.k.a. Conditional a.k.a. Selection Structures\n",
    "<li> Comparison/Relational Operators and Boolean Expressions\n",
    "<li> The if statement\n",
    "<li> The if-else statement\n",
    "<li> Comparing strings    \n",
    "<li> Nested Decision Structures and the if-elif-else"
   ]
  },
  {
   "cell_type": "markdown",
   "metadata": {},
   "source": [
    "Control Structures (order in which program statements execute): <br>\n",
    "So far we have looked at Sequence Structures. This class we will start looking at Decision Structures (If-elif-else). \n",
    "\n",
    "Conditional Statement (decision structures) changes the flow of the code depending on the condition/decision.  There are different types of decision structures:  <br>\n",
    "<li> Single Alternative Decision Structure (Only One Alternative Path): The <b>if</b> statement\n",
    "<li> Dual Alternative Decision Structure (Two Alternative Paths)      : The <b>if-else</b> statement \n",
    "<li> Multi Alternative Decision Structure (Multiple Alternative Paths): The <b>if-elif-else</b> statement\n",
    "\n",
    "Other Notes:<br>\n",
    "Importance of Indentation<br>"
   ]
  },
  {
   "cell_type": "markdown",
   "metadata": {},
   "source": [
    "## Write an if statement using boolean expressions [you can develop the pseudocode or flowchart to help you]\n",
    "<li> Assign taxRate of 10% if the income is less than or equal to 10000 and inform the user about their tax rate"
   ]
  },
  {
   "cell_type": "code",
   "execution_count": null,
   "metadata": {},
   "outputs": [],
   "source": []
  },
  {
   "cell_type": "markdown",
   "metadata": {},
   "source": [
    "<li> Assign value of 0.2 to commissionRate if sales is greater than or equal to 1000 and calculate the amount by which they exceeded their quota. Inform the user that they exceeded their sales quota by a particular amount and congratulate them! Also show them how much total money they made in commission using the formula: commissionEarned = sales * commissionRate"
   ]
  },
  {
   "cell_type": "code",
   "execution_count": null,
   "metadata": {},
   "outputs": [],
   "source": []
  },
  {
   "cell_type": "markdown",
   "metadata": {},
   "source": [
    "### ICE4_1: [you can develop the pseudocode or flowchart to help you]\n",
    "<li> Write a program with IF statement asking the user for their amount of savings. If the savings are greater than 5000 dollars then set the interest rate at 5% and print a message to those users \"Amplify your savings with high interest rate of 5% now!\""
   ]
  },
  {
   "cell_type": "code",
   "execution_count": null,
   "metadata": {},
   "outputs": [],
   "source": []
  },
  {
   "cell_type": "markdown",
   "metadata": {},
   "source": [
    "<li> Write a program with IF statement asking users for their average GPA in pre-business coursework. If the GPA in pre-business coursework is greater than or equal to 2.25, set eligiblePreBiz to 1 and print a message to those users \"Great, now let's hope you meet rest of the Zicklin Eligibiligy requirements!\""
   ]
  },
  {
   "cell_type": "code",
   "execution_count": null,
   "metadata": {},
   "outputs": [],
   "source": []
  },
  {
   "cell_type": "markdown",
   "metadata": {},
   "source": [
    "<li> Write a program with IF statement asking the user for their Baruch GPA. If the GPA is greater than or equal to 2.25, set eligibleBaruch to 1 and print a message to those users \"Great, now let's hope you meet rest of the Zicklin Eligibiligy requirements!\""
   ]
  },
  {
   "cell_type": "code",
   "execution_count": null,
   "metadata": {},
   "outputs": [],
   "source": []
  },
  {
   "cell_type": "markdown",
   "metadata": {},
   "source": [
    "## Write an if-else statement using boolean expressions \n",
    "#### [First develop your pseudocode or flowchart]\n",
    "\n",
    "<li> Assign value of 0.2 to commissionRate if sales is greater than or equal to 1000 and calculate the amount by which they exceeded their quota. Inform the user that they exceeded their sales quota by a particular amount and congratulate them! Also show them how much total money they made in commission using the formula: commissionEarned = sales * commissionRate. Otherwise inform the users how much more sales they need to make in $ amount to earn the commissionRate of 0.2. "
   ]
  },
  {
   "cell_type": "code",
   "execution_count": null,
   "metadata": {},
   "outputs": [],
   "source": []
  },
  {
   "cell_type": "markdown",
   "metadata": {},
   "source": [
    "<li> Assign taxRate of 10% if the income is less than or equal to 10000 and inform the user about their tax rate. Otherwise assign the taxRate of 25%. In each case calculate the totalTaxOwed as income * taxRate and display it to the user."
   ]
  },
  {
   "cell_type": "code",
   "execution_count": null,
   "metadata": {},
   "outputs": [],
   "source": []
  },
  {
   "cell_type": "markdown",
   "metadata": {},
   "source": [
    "<li> Write a program to convert a numerical grade to a letter grade, ‘A’, ‘B’, ‘C’, ‘D’ or ‘F’, where the cutoffs for ‘A’, ‘B’, ‘C’, and ‘D’ are 90, 80, 70, and 60 respectively. "
   ]
  },
  {
   "cell_type": "code",
   "execution_count": null,
   "metadata": {},
   "outputs": [],
   "source": []
  },
  {
   "cell_type": "markdown",
   "metadata": {},
   "source": [
    "<li> What will the code below print?"
   ]
  },
  {
   "cell_type": "raw",
   "metadata": {},
   "source": [
    "x = 2\n",
    "y = 3\n",
    "if x == y:\n",
    "    print(\"It's True!\")\n",
    "    y = x + x\n",
    "else:\n",
    "    print(\"It's False!\")\n",
    "    y = x\n",
    "print(x)\n",
    "print(y)"
   ]
  },
  {
   "cell_type": "code",
   "execution_count": null,
   "metadata": {},
   "outputs": [],
   "source": []
  },
  {
   "cell_type": "markdown",
   "metadata": {},
   "source": [
    "### ICE4_2: [First develop your pseudocode or flowchart]\n",
    "<li> Write a program that decides whether to clear (pay) a check from a checking account. Ask the user for checkAmt and their checking account balance. If the checkAmt is less than or equal to account balance, clear the check and display the user message that check was cleared. Also display to the user their remaining balance. Otherwise display the user a message that checkAmount exceeds the account balance and cannot be cleared."
   ]
  },
  {
   "cell_type": "code",
   "execution_count": null,
   "metadata": {},
   "outputs": [],
   "source": []
  },
  {
   "cell_type": "markdown",
   "metadata": {},
   "source": [
    "<li> Write a program that decides whether airline passengers have to pay excess baggage fees. Ask the user how much their bag weighs. If the bag weighs more than 50lbs then feesCharged should be $25 and inform the user as such. Otherwise inform the user that \"Good job of packing light!\""
   ]
  },
  {
   "cell_type": "code",
   "execution_count": null,
   "metadata": {},
   "outputs": [],
   "source": []
  },
  {
   "cell_type": "markdown",
   "metadata": {},
   "source": [
    "<li> Amita had written a program to calculate total wages of her employees using regular and overtime hours. If the hours worked were more than 40 then in addition to regular pay for the first 40 hours she paid 1*5 times the regular hourly rate for any excess hours abouve 40. But her really smart dog who know how to use a computer (!) completely reshuffled her code which now looks like below. Can you help Amita to put together the code in proper sequence so it works? "
   ]
  },
  {
   "cell_type": "raw",
   "metadata": {},
   "source": [
    "overtime = 0 \n",
    "hours = float(input('Enter hours worked: '))\n",
    "regularHours = hours \n",
    "if hours <= 40: \n",
    "print(\"Wages for \", hours, \" hours at $\", format(hourlyWage,'.2f'), \" per hour are $\", format(totalWages,'.2f'), sep=\"\") \n",
    "overtime = hours - 40 \n",
    "hourlyWage = float(input('Enter dollars paid per hour: ')) \n",
    "regularHours = 40 \n",
    "totalWages = hourlyWage*regularHours + (1.5*hourlyWage)*overtime \n",
    "else:"
   ]
  },
  {
   "cell_type": "code",
   "execution_count": null,
   "metadata": {},
   "outputs": [],
   "source": []
  },
  {
   "cell_type": "markdown",
   "metadata": {},
   "source": [
    "## Write an if-elif-else statement using boolean expressions [First develop your pseudocode or flowchart]\n",
    "<li> Use the Gregorian approach to determine whether a given year is a leap year. Here are the conditions: <br>\n",
    "    Determine whether the year is divisible by 100. If it is, then it is a leap year if and only if it is also divisible by 400. For example, 2000 is a leap year, but 2100 is not. <br>\n",
    "    If the year is not divisible by 100, then it is a leap year if and only if it is divisible by 4. For example, 2008 is a leap year, but 2009 is not."
   ]
  },
  {
   "cell_type": "code",
   "execution_count": null,
   "metadata": {},
   "outputs": [],
   "source": []
  },
  {
   "cell_type": "markdown",
   "metadata": {},
   "source": [
    "<li> Write a program that asks the user for a number in the range of 1 through 7. The program should display the corresponding day of the week, where 1 = Monday, 2 = Tuesday, 3 = Wednesday, 4 = Thursday, 5 = Friday, 6 = Saturday, and 7 = Sunday. The program should display an error message if the user enters a number that is outside the range of 1 through 7.\n"
   ]
  },
  {
   "cell_type": "code",
   "execution_count": null,
   "metadata": {},
   "outputs": [],
   "source": []
  },
  {
   "cell_type": "markdown",
   "metadata": {},
   "source": [
    "### ICE4_3 [First develop your pseudocode or flowchart]\n",
    "<li> Update the Amita's wage calculation program once you have it organized so that people who work more than 60 hours can get paid double time for hours over 60. Hence they get paid for at most 20 hours overtime at 1.5 times the normal rate. "
   ]
  },
  {
   "cell_type": "raw",
   "metadata": {},
   "source": [
    "For example, a person working 65 hours with a regular wage of $10 per hour would work at $10 per hour for 40 hours, at 1.5 * $10 for 20 hours of overtime, and 2 * $10 for 5 hours of double time, for a total of \n",
    "10*40 + 1.5*10*20 + 2*10*5 = $800."
   ]
  },
  {
   "cell_type": "code",
   "execution_count": null,
   "metadata": {},
   "outputs": [],
   "source": []
  },
  {
   "cell_type": "markdown",
   "metadata": {},
   "source": [
    "<hr><hr>\n",
    "### To summarize: \"IF\" statements are independent, meaning they will all be checked regardless of the other conditonal statements outcomes.\n",
    "\n",
    "### \"Elif\" and \"else\" statements are dependent, meaning they will be checked only if the other conditional statements before them fail."
   ]
  }
 ],
 "metadata": {
  "kernelspec": {
   "display_name": "Python 3 (ipykernel)",
   "language": "python",
   "name": "python3"
  },
  "language_info": {
   "codemirror_mode": {
    "name": "ipython",
    "version": 3
   },
   "file_extension": ".py",
   "mimetype": "text/x-python",
   "name": "python",
   "nbconvert_exporter": "python",
   "pygments_lexer": "ipython3",
   "version": "3.11.4"
  }
 },
 "nbformat": 4,
 "nbformat_minor": 1
}
